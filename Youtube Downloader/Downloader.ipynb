{
 "cells": [
  {
   "cell_type": "markdown",
   "id": "537c433d",
   "metadata": {},
   "source": [
    "## **YouTube Video Downloader**\n",
    "You can install any youtube video by using the video link.\n",
    "\n",
    "Steps to use this program are as followed\n",
    "1. Run the first cell of code to install the necessary Libraby, in this case it is `pytube` \n",
    "2. Run the second cell of code and copy paste the Youtube video link \n",
    "It might take few seconds to load on the local device.\n",
    "**NOTE** : The video will be stored in your Downloads folder.\n",
    "\n",
    "## Future work\n",
    "\n",
    "1. Ability to download playlist\n",
    "2. Ability to download selective video in playlist\n",
    "3. Web framework to have an interface to interact"
   ]
  },
  {
   "cell_type": "code",
   "execution_count": 1,
   "id": "ead18bbd",
   "metadata": {
    "scrolled": true
   },
   "outputs": [
    {
     "name": "stdout",
     "output_type": "stream",
     "text": [
      "Collecting pytube\n",
      "  Downloading pytube-15.0.0-py3-none-any.whl (57 kB)\n",
      "     ---------------------------------------- 0.0/57.6 kB ? eta -:--:--\n",
      "     -------------------- ----------------- 30.7/57.6 kB 660.6 kB/s eta 0:00:01\n",
      "     --------------------------- ---------- 41.0/57.6 kB 653.6 kB/s eta 0:00:01\n",
      "     --------------------------- ---------- 41.0/57.6 kB 653.6 kB/s eta 0:00:01\n",
      "     --------------------------------- ---- 51.2/57.6 kB 262.6 kB/s eta 0:00:01\n",
      "     -------------------------------------- 57.6/57.6 kB 275.3 kB/s eta 0:00:00\n",
      "Installing collected packages: pytube\n",
      "Successfully installed pytube-15.0.0\n",
      "Note: you may need to restart the kernel to use updated packages.\n"
     ]
    }
   ],
   "source": [
    "pip install pytube"
   ]
  },
  {
   "cell_type": "code",
   "execution_count": 1,
   "id": "f8ce1ca4",
   "metadata": {},
   "outputs": [
    {
     "name": "stdout",
     "output_type": "stream",
     "text": [
      "Video downloading...\n"
     ]
    }
   ],
   "source": [
    "from pytube import YouTube, Playlist\n",
    "\n",
    "# URL of the YouTube video\n",
    "video_url = input(prompt = \"Enter URL: \")\n",
    "\n",
    "# Create a YouTube object\n",
    "yt = YouTube(video_url)\n",
    "\n",
    "# Get the highest resolution stream (default is progressive)\n",
    "video_stream = yt.streams.get_highest_resolution()\n",
    "\n",
    "# Download the video to the current directory\n",
    "video_stream.download()\n",
    "\n",
    "print(\"Video downloading...\")"
   ]
  },
  {
   "cell_type": "code",
   "execution_count": 3,
   "id": "c2bcfcb0",
   "metadata": {},
   "outputs": [
    {
     "name": "stdout",
     "output_type": "stream",
     "text": [
      "----------Select any one---------- \n",
      "1. Single Video\n",
      "2. Playlist\n",
      "Downloading: 17. Django Report card Project  | Django Tutorial\n"
     ]
    }
   ],
   "source": [
    "from pytube import YouTube, Playlist\n",
    "\n",
    "# URL of the YouTube video\n",
    "print(\"----------Select any one---------- \")\n",
    "print(\"1. Single Video\") \n",
    "print(\"2. Playlist\")\n",
    "n = int(input())\n",
    "\n",
    "if n == 1:\n",
    "    url = input(prompt = \"Enter video URL: \")\n",
    "\n",
    "    # Create a YouTube object\n",
    "    yt = YouTube(url)\n",
    "\n",
    "    print(f'Downloading: {yt.title}')\n",
    "\n",
    "    video_stream = yt.streams.get_by_resolution(\"720p\")\n",
    "    # Download the video to the current directory\n",
    "    video_stream.download()\n",
    "\n",
    "else:\n",
    "    video_url = input(prompt = \"Enter playlist URL: \")\n",
    "\n",
    "    # Create a YouTube object\n",
    "    p = Playlist(video_url)\n",
    "    \n",
    "    print(f'Getting Urls: {p.title}')\n",
    "    for video in p.video_urls:\n",
    "        print(video)\n",
    "        link = YouTube(video)\n",
    "        print(f'Downloading: {link.title}')\n",
    "        video_s = link.streams.get_by_resolution(\"720p\")\n",
    "        video_s.download()\n",
    "\n"
   ]
  }
 ],
 "metadata": {
  "kernelspec": {
   "display_name": "Python 3 (ipykernel)",
   "language": "python",
   "name": "python3"
  },
  "language_info": {
   "codemirror_mode": {
    "name": "ipython",
    "version": 3
   },
   "file_extension": ".py",
   "mimetype": "text/x-python",
   "name": "python",
   "nbconvert_exporter": "python",
   "pygments_lexer": "ipython3",
   "version": "3.11.5"
  }
 },
 "nbformat": 4,
 "nbformat_minor": 5
}
