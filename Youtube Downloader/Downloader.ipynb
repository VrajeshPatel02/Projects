{
 "cells": [
  {
   "cell_type": "markdown",
   "id": "537c433d",
   "metadata": {},
   "source": [
    "## **YouTube Video Downloader**\n",
    "You can install any youtube video by using the video link.\n",
    "\n",
    "Steps to use this program are as followed\n",
    "1. Run the first cell of code to install the necessary Libraby, in this case it is `pytube` \n",
    "2. Run the second cell of code and copy paste the Youtube video link \n",
    "It might take few seconds to load on the local device.\n",
    "**NOTE** : The video will be stored in your Downloads folder."
   ]
  },
  {
   "cell_type": "code",
   "execution_count": null,
   "id": "ead18bbd",
   "metadata": {
    "scrolled": true
   },
   "outputs": [],
   "source": [
    "pip install pytube"
   ]
  },
  {
   "cell_type": "code",
   "execution_count": null,
   "id": "c2bcfcb0",
   "metadata": {},
   "outputs": [],
   "source": [
    "from pytube import YouTube\n",
    "\n",
    "# URL of the YouTube video\n",
    "video_url = input(prompt = \"Enter URL: \")\n",
    "\n",
    "# Create a YouTube object\n",
    "yt = YouTube(video_url)\n",
    "\n",
    "# Get the highest resolution stream (default is progressive)\n",
    "video_stream = yt.streams.get_highest_resolution()\n",
    "\n",
    "# Download the video to the current directory\n",
    "video_stream.download()\n",
    "\n",
    "print(\"Video downloaded successfully.\")"
   ]
  },
  {
   "cell_type": "code",
   "execution_count": null,
   "id": "65a7c852",
   "metadata": {},
   "outputs": [],
   "source": []
  }
 ],
 "metadata": {
  "kernelspec": {
   "display_name": "Python 3 (ipykernel)",
   "language": "python",
   "name": "python3"
  },
  "language_info": {
   "codemirror_mode": {
    "name": "ipython",
    "version": 3
   },
   "file_extension": ".py",
   "mimetype": "text/x-python",
   "name": "python",
   "nbconvert_exporter": "python",
   "pygments_lexer": "ipython3",
   "version": "3.9.12"
  }
 },
 "nbformat": 4,
 "nbformat_minor": 5
}
